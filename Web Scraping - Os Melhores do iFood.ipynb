{
 "cells": [
  {
   "cell_type": "markdown",
   "metadata": {},
   "source": [
    "# Web Scraping"
   ]
  },
  {
   "cell_type": "markdown",
   "metadata": {},
   "source": [
    "Para colocar em prática os estudos sobre coleta de dados, em uma página web, resolvi pegar informações da página inicial do iFood.\n",
    "Nessa tela temos um carrossel com as 5 lojas mais bem avaliadas, foquei nisso o exercício."
   ]
  },
  {
   "cell_type": "code",
   "execution_count": 1,
   "metadata": {},
   "outputs": [],
   "source": [
    "# Importando as bibliotecas\n",
    "from urllib.request import urlopen, Request\n",
    "from bs4 import BeautifulSoup\n",
    "import pandas as pd\n",
    "\n",
    "# Criando o headers para simular o acesso pelo navegador\n",
    "headers = {'User-Agent': 'Mozilla/5.0 (Windows NT 10.0; Win64; x64) AppleWebKit/537.36 (KHTML, like Gecko) Chrome/90.0.4430.212 Safari/537.36'}\n",
    "\n",
    "# Pegando o HTML da página\n",
    "req = Request('https://www.ifood.com.br/', headers = headers)\n",
    "response = urlopen(req)\n",
    "html = response.read().decode('utf-8')\n",
    "soup = BeautifulSoup(html, 'html.parser')"
   ]
  },
  {
   "cell_type": "code",
   "execution_count": 2,
   "metadata": {},
   "outputs": [
    {
     "data": {
      "text/plain": [
       "'Os melhores do iFood'"
      ]
     },
     "execution_count": 2,
     "metadata": {},
     "output_type": "execute_result"
    }
   ],
   "source": [
    "soup.find(class_ = \"landing-restaurants__title\").getText()"
   ]
  },
  {
   "cell_type": "markdown",
   "metadata": {},
   "source": [
    "## Os Melhores do iFood"
   ]
  },
  {
   "cell_type": "markdown",
   "metadata": {},
   "source": [
    "### Descobrindo os dados necessários"
   ]
  },
  {
   "cell_type": "code",
   "execution_count": 3,
   "metadata": {},
   "outputs": [
    {
     "data": {
      "text/plain": [
       "[<span class=\"restaurant-name\">Mcdonald's</span>,\n",
       " <span class=\"restaurant-name\">Coco Bambu</span>,\n",
       " <span class=\"restaurant-name\">China in Box</span>,\n",
       " <span class=\"restaurant-name\">Habib's</span>,\n",
       " <span class=\"restaurant-name\">Outback Steakhouse</span>]"
      ]
     },
     "execution_count": 3,
     "metadata": {},
     "output_type": "execute_result"
    }
   ],
   "source": [
    "soup.findAll('span', class_='restaurant-name')"
   ]
  },
  {
   "cell_type": "code",
   "execution_count": 4,
   "metadata": {},
   "outputs": [
    {
     "data": {
      "text/plain": [
       "\"Mcdonald's\""
      ]
     },
     "execution_count": 4,
     "metadata": {},
     "output_type": "execute_result"
    }
   ],
   "source": [
    "soup.find('span', class_='restaurant-name').getText()"
   ]
  },
  {
   "cell_type": "code",
   "execution_count": 5,
   "metadata": {},
   "outputs": [
    {
     "data": {
      "text/plain": [
       "'4.7'"
      ]
     },
     "execution_count": 5,
     "metadata": {},
     "output_type": "execute_result"
    }
   ],
   "source": [
    "soup.find('span', class_='restaurant-rating').getText()"
   ]
  },
  {
   "cell_type": "code",
   "execution_count": 6,
   "metadata": {},
   "outputs": [
    {
     "data": {
      "text/plain": [
       "'Lanches'"
      ]
     },
     "execution_count": 6,
     "metadata": {},
     "output_type": "execute_result"
    }
   ],
   "source": [
    "soup.find('div', class_='restaurant-card__info').getText().split(' • ')[1]"
   ]
  },
  {
   "cell_type": "markdown",
   "metadata": {},
   "source": [
    "### Pegando as informações desejadas e criando a tabela"
   ]
  },
  {
   "cell_type": "code",
   "execution_count": 7,
   "metadata": {},
   "outputs": [],
   "source": [
    "# Criando uma lista para receber os dados\n",
    "cards = []\n",
    "\n",
    "# Pegando só o código html da parte \"Os melhores do iFood\"\n",
    "melhores = soup.find('div', {'id':'__next'}).findAll('div', class_ = \"restaurant-card\")\n",
    "\n",
    "# Passando por cada loja dentro de \"Os melhores do iFood\"\n",
    "for melhor in melhores:\n",
    "    \n",
    "    card = {}\n",
    "\n",
    "# Pegando os dados em cada loja\n",
    "    infos = melhor.find('h3', {'class':'restaurant-card__title'}).findAll('span')\n",
    "    \n",
    "    for info in infos:\n",
    "        card['nome'] = melhor.find('span', class_='restaurant-name').getText()\n",
    "        card['nota'] = melhor.find('span', class_='restaurant-rating').getText()\n",
    "        card['tipo'] = melhor.find('div', class_='restaurant-card__info').getText().split(' • ')[1]\n",
    "\n",
    "# Adicionando a loja na lista de cards\n",
    "    cards.append(card)\n",
    "\n",
    "# Criando o DataFrame ordenado pela coluna nota\n",
    "dataset = pd.DataFrame(cards).sort_values('nota', ascending = False).reset_index(drop=True)\n"
   ]
  },
  {
   "cell_type": "markdown",
   "metadata": {},
   "source": [
    "## Tabela dos Melhores do iFood"
   ]
  },
  {
   "cell_type": "code",
   "execution_count": 8,
   "metadata": {},
   "outputs": [
    {
     "data": {
      "text/html": [
       "<div>\n",
       "<style scoped>\n",
       "    .dataframe tbody tr th:only-of-type {\n",
       "        vertical-align: middle;\n",
       "    }\n",
       "\n",
       "    .dataframe tbody tr th {\n",
       "        vertical-align: top;\n",
       "    }\n",
       "\n",
       "    .dataframe thead th {\n",
       "        text-align: right;\n",
       "    }\n",
       "</style>\n",
       "<table border=\"1\" class=\"dataframe\">\n",
       "  <thead>\n",
       "    <tr style=\"text-align: right;\">\n",
       "      <th></th>\n",
       "      <th>nome</th>\n",
       "      <th>nota</th>\n",
       "      <th>tipo</th>\n",
       "    </tr>\n",
       "  </thead>\n",
       "  <tbody>\n",
       "    <tr>\n",
       "      <th>0</th>\n",
       "      <td>Mcdonald's</td>\n",
       "      <td>4.7</td>\n",
       "      <td>Lanches</td>\n",
       "    </tr>\n",
       "    <tr>\n",
       "      <th>1</th>\n",
       "      <td>Coco Bambu</td>\n",
       "      <td>4.6</td>\n",
       "      <td>Frutos Do Mar</td>\n",
       "    </tr>\n",
       "    <tr>\n",
       "      <th>2</th>\n",
       "      <td>China in Box</td>\n",
       "      <td>4.6</td>\n",
       "      <td>Chinesa</td>\n",
       "    </tr>\n",
       "    <tr>\n",
       "      <th>3</th>\n",
       "      <td>Outback Steakhouse</td>\n",
       "      <td>4.6</td>\n",
       "      <td>Lanches</td>\n",
       "    </tr>\n",
       "    <tr>\n",
       "      <th>4</th>\n",
       "      <td>Habib's</td>\n",
       "      <td>4.4</td>\n",
       "      <td>Lanches</td>\n",
       "    </tr>\n",
       "  </tbody>\n",
       "</table>\n",
       "</div>"
      ],
      "text/plain": [
       "                 nome nota           tipo\n",
       "0          Mcdonald's  4.7        Lanches\n",
       "1          Coco Bambu  4.6  Frutos Do Mar\n",
       "2        China in Box  4.6        Chinesa\n",
       "3  Outback Steakhouse  4.6        Lanches\n",
       "4             Habib's  4.4        Lanches"
      ]
     },
     "execution_count": 8,
     "metadata": {},
     "output_type": "execute_result"
    }
   ],
   "source": [
    "dataset"
   ]
  }
 ],
 "metadata": {
  "kernelspec": {
   "display_name": "Python 3",
   "language": "python",
   "name": "python3"
  },
  "language_info": {
   "codemirror_mode": {
    "name": "ipython",
    "version": 3
   },
   "file_extension": ".py",
   "mimetype": "text/x-python",
   "name": "python",
   "nbconvert_exporter": "python",
   "pygments_lexer": "ipython3",
   "version": "3.8.5"
  }
 },
 "nbformat": 4,
 "nbformat_minor": 4
}
